{
  "cells": [
    {
      "attachments": {},
      "cell_type": "markdown",
      "metadata": {
        "id": "inWkJNrH3vI1"
      },
      "source": [
        "### **Atividade:** Teste BDD para um Sistema de Reservas de Voo\n",
        "\n",
        "---\n",
        "\n",
        "\n",
        "\n",
        "### **Instruções**\n",
        "1.   O sistema de reserva de voo terá as seguintes funcionalidades: **Pesquisa de Voos**, **Reserva de Assentos**, **Confirmação de Reservas**, **Modificação de Reservas** e **Cancelamento** **de** **Reservas**.\n",
        "2.   Para cada funcionalidade crie 02 cenários de teste BDD (Dado/Give, Quando/When, E, Então/Then) certifique-se de que os cenários cubram uma variedade de casos.\n",
        "3.   Implementar os passos dos cenários de teste criados usando biblioteca BDD, como o Behave (Python), Cucumber (Java)...\n",
        "---\n",
        "\n"
      ]
    },
    {
      "attachments": {},
      "cell_type": "markdown",
      "metadata": {
        "id": "3-EfvW_7yrRF"
      },
      "source": [
        "## **EXEMPLO**\n",
        "---"
      ]
    },
    {
      "attachments": {},
      "cell_type": "markdown",
      "metadata": {
        "id": "OYos6n45zWB2"
      },
      "source": [
        "# **Feature: Pesquisa de Voos**\n",
        "  \n",
        "Cenário 01 : Pesquisar voos com origem e destino válidos \n",
        "\n",
        "```\n",
        "Given que estou na página inicial\n",
        "When eu seleciono a origem como \"São Paulo\"\n",
        "And eu seleciono o destino como \"Rio de Janeiro\"\n",
        "And eu clico no botão de pesquisa\n",
        "Then eu vejo uma lista de voos disponíveis\n",
        "```\n"
      ]
    },
    {
      "cell_type": "code",
      "execution_count": 3,
      "metadata": {
        "id": "L5vcsIw05uXT"
      },
      "outputs": [
        {
          "name": "stdout",
          "output_type": "stream",
          "text": [
            "Requirement already satisfied: behave in /Users/elyassantana/envs/scraping/lib/python3.9/site-packages (1.2.6)\n",
            "Requirement already satisfied: parse>=1.8.2 in /Users/elyassantana/envs/scraping/lib/python3.9/site-packages (from behave) (1.19.0)\n",
            "Requirement already satisfied: six>=1.11 in /Users/elyassantana/envs/scraping/lib/python3.9/site-packages (from behave) (1.16.0)\n",
            "Requirement already satisfied: parse-type>=0.4.2 in /Users/elyassantana/envs/scraping/lib/python3.9/site-packages (from behave) (0.6.0)\n",
            "\n",
            "\u001b[1m[\u001b[0m\u001b[34;49mnotice\u001b[0m\u001b[1;39;49m]\u001b[0m\u001b[39;49m A new release of pip available: \u001b[0m\u001b[31;49m22.3\u001b[0m\u001b[39;49m -> \u001b[0m\u001b[32;49m23.1.2\u001b[0m\n",
            "\u001b[1m[\u001b[0m\u001b[34;49mnotice\u001b[0m\u001b[1;39;49m]\u001b[0m\u001b[39;49m To update, run: \u001b[0m\u001b[32;49mpip install --upgrade pip\u001b[0m\n",
            "Note: you may need to restart the kernel to use updated packages.\n"
          ]
        }
      ],
      "source": [
        "pip install behave"
      ]
    },
    {
      "cell_type": "code",
      "execution_count": 5,
      "metadata": {
        "id": "J4NKOOj15yJL"
      },
      "outputs": [
        {
          "ename": "AmbiguousStep",
          "evalue": "@given('que estou na página inicial') has already been defined in\n  existing step @given('que estou na página inicial') at ../../../../../var/folders/rx/g38pqr3x7gq9x2jd8l6kcjzh0000gn/T/ipykernel_2730/2619716044.py:3",
          "output_type": "error",
          "traceback": [
            "\u001b[0;31m---------------------------------------------------------------------------\u001b[0m",
            "\u001b[0;31mAmbiguousStep\u001b[0m                             Traceback (most recent call last)",
            "\u001b[1;32m/Users/elyassantana/Projetos/IFS/Teste de Softwate/Atividade_02_Teste_BDD.ipynb Célula 5\u001b[0m in \u001b[0;36m5\n\u001b[1;32m      <a href='vscode-notebook-cell:/Users/elyassantana/Projetos/IFS/Teste%20de%20Softwate/Atividade_02_Teste_BDD.ipynb#W4sZmlsZQ%3D%3D?line=0'>1</a>\u001b[0m \u001b[39mfrom\u001b[39;00m \u001b[39mbehave\u001b[39;00m \u001b[39mimport\u001b[39;00m given, when, then\n\u001b[1;32m      <a href='vscode-notebook-cell:/Users/elyassantana/Projetos/IFS/Teste%20de%20Softwate/Atividade_02_Teste_BDD.ipynb#W4sZmlsZQ%3D%3D?line=3'>4</a>\u001b[0m \u001b[39m@given\u001b[39;49m(\u001b[39m\"\u001b[39;49m\u001b[39mque estou na página inicial\u001b[39;49m\u001b[39m\"\u001b[39;49m)\n\u001b[0;32m----> <a href='vscode-notebook-cell:/Users/elyassantana/Projetos/IFS/Teste%20de%20Softwate/Atividade_02_Teste_BDD.ipynb#W4sZmlsZQ%3D%3D?line=4'>5</a>\u001b[0m \u001b[39mdef\u001b[39;49;00m \u001b[39mstep_pagina_inicial\u001b[39;49m(context):\n\u001b[1;32m      <a href='vscode-notebook-cell:/Users/elyassantana/Projetos/IFS/Teste%20de%20Softwate/Atividade_02_Teste_BDD.ipynb#W4sZmlsZQ%3D%3D?line=5'>6</a>\u001b[0m     \u001b[39m# Lógica para simular o usuário estar na página inicial\u001b[39;49;00m\n\u001b[1;32m      <a href='vscode-notebook-cell:/Users/elyassantana/Projetos/IFS/Teste%20de%20Softwate/Atividade_02_Teste_BDD.ipynb#W4sZmlsZQ%3D%3D?line=6'>7</a>\u001b[0m     \u001b[39mprint\u001b[39;49m(\u001b[39m\"\u001b[39;49m\u001b[39mTeste\u001b[39;49m\u001b[39m\"\u001b[39;49m)\n\u001b[1;32m     <a href='vscode-notebook-cell:/Users/elyassantana/Projetos/IFS/Teste%20de%20Softwate/Atividade_02_Teste_BDD.ipynb#W4sZmlsZQ%3D%3D?line=9'>10</a>\u001b[0m \u001b[39m@when\u001b[39m(\u001b[39m'\u001b[39m\u001b[39meu seleciono a origem como \u001b[39m\u001b[39m\"\u001b[39m\u001b[39m{origem}\u001b[39;00m\u001b[39m\"\u001b[39m\u001b[39m'\u001b[39m)\n\u001b[1;32m     <a href='vscode-notebook-cell:/Users/elyassantana/Projetos/IFS/Teste%20de%20Softwate/Atividade_02_Teste_BDD.ipynb#W4sZmlsZQ%3D%3D?line=10'>11</a>\u001b[0m \u001b[39mdef\u001b[39;00m \u001b[39mstep_selecionar_origem\u001b[39m(context, origem):\n\u001b[1;32m     <a href='vscode-notebook-cell:/Users/elyassantana/Projetos/IFS/Teste%20de%20Softwate/Atividade_02_Teste_BDD.ipynb#W4sZmlsZQ%3D%3D?line=11'>12</a>\u001b[0m     \u001b[39m# Lógica para selecionar a origem\u001b[39;00m\n",
            "File \u001b[0;32m~/envs/scraping/lib/python3.9/site-packages/behave/step_registry.py:92\u001b[0m, in \u001b[0;36mStepRegistry.make_decorator.<locals>.decorator.<locals>.wrapper\u001b[0;34m(func)\u001b[0m\n\u001b[1;32m     91\u001b[0m \u001b[39mdef\u001b[39;00m \u001b[39mwrapper\u001b[39m(func):\n\u001b[0;32m---> 92\u001b[0m     \u001b[39mself\u001b[39;49m\u001b[39m.\u001b[39;49madd_step_definition(step_type, step_text, func)\n\u001b[1;32m     93\u001b[0m     \u001b[39mreturn\u001b[39;00m func\n",
            "File \u001b[0;32m~/envs/scraping/lib/python3.9/site-packages/behave/step_registry.py:58\u001b[0m, in \u001b[0;36mStepRegistry.add_step_definition\u001b[0;34m(self, keyword, step_text, func)\u001b[0m\n\u001b[1;32m     56\u001b[0m         existing_step \u001b[39m=\u001b[39m existing\u001b[39m.\u001b[39mdescribe()\n\u001b[1;32m     57\u001b[0m         existing_step \u001b[39m+\u001b[39m\u001b[39m=\u001b[39m \u001b[39mu\u001b[39m\u001b[39m\"\u001b[39m\u001b[39m at \u001b[39m\u001b[39m%s\u001b[39;00m\u001b[39m\"\u001b[39m \u001b[39m%\u001b[39m existing\u001b[39m.\u001b[39mlocation\n\u001b[0;32m---> 58\u001b[0m         \u001b[39mraise\u001b[39;00m AmbiguousStep(message \u001b[39m%\u001b[39m (new_step, existing_step))\n\u001b[1;32m     59\u001b[0m step_definitions\u001b[39m.\u001b[39mappend(get_matcher(func, step_text))\n",
            "\u001b[0;31mAmbiguousStep\u001b[0m: @given('que estou na página inicial') has already been defined in\n  existing step @given('que estou na página inicial') at ../../../../../var/folders/rx/g38pqr3x7gq9x2jd8l6kcjzh0000gn/T/ipykernel_2730/2619716044.py:3"
          ]
        }
      ],
      "source": [
        "from behave import *\n",
        "from selenium import webdriver\n",
        "from selenium.webdriver.common.keys import Keys\n",
        "from selenium.webdriver.common.by import By\n",
        "from selenium.webdriver.support.ui import WebDriverWait\n",
        "from selenium.webdriver.support import expected_conditions as EC\n",
        "\n",
        "\n",
        "\n",
        "@given(\"que estou na página inicial\")\n",
        "def step_pagina_inicial(context):\n",
        "    # Lógica para simular o usuário estar na página inicial\n",
        "    context.driver = webdriver.Chrome()\n",
        "    context.driver.get('https://www.maxmilhas.com.br/')  # Substitua pelo URL do site real\n",
        "\n",
        "\n",
        "@when('eu seleciono a origem como \"{origem}\"')\n",
        "def step_selecionar_origem(context, origem):\n",
        "    # Lógica para selecionar a origem\n",
        "    input_origem = context.driver.find_element_by_id('from')  # Substitua pelo ID correto do campo de origem\n",
        "    input_origem.send_keys(origem)\n",
        "\n",
        "\n",
        "@when('eu seleciono o destino como \"{destino}\"')\n",
        "def step_selecionar_destino(context, destino):\n",
        "    # Lógica para selecionar o destino\n",
        "    input_origem = context.driver.find_element_by_id('to')  # Substitua pelo ID correto do campo de origem\n",
        "    input_origem.send_keys(destino)\n",
        "\n",
        "\n",
        "@when(\"eu clico no botão de pesquisa\")\n",
        "def step_clicar_pesquisa(context):\n",
        "    # Lógica para simular o clique no botão de pesquisa\n",
        "    button = context.driver.find_element_by_class('css-8atqhb css-j6nn1o')\n",
        "    button.click()\n",
        "    WebDriverWait(context.driver, 10).until(EC.presence_of_element_located((By.ID, 'flight-list')))\n",
        "\n",
        "\n",
        "\n",
        "@then(\"eu vejo uma lista de voos disponíveis\")\n",
        "def step_ver_lista_voos(context):\n",
        "    # Lógica para verificar se a lista de voos está sendo exibida corretamente\n",
        "    pass\n"
      ]
    },
    {
      "attachments": {},
      "cell_type": "markdown",
      "metadata": {
        "id": "M5jVVP4pTblx"
      },
      "source": [
        "# Cenário 02\n",
        "\n",
        "\n",
        "\n",
        "```\n",
        "# guiopuopguopgu\n",
        "```\n",
        "\n",
        "\n"
      ]
    },
    {
      "cell_type": "code",
      "execution_count": null,
      "metadata": {
        "id": "X0dgZGXDTq95"
      },
      "outputs": [],
      "source": []
    }
  ],
  "metadata": {
    "colab": {
      "provenance": []
    },
    "kernelspec": {
      "display_name": "Python 3",
      "name": "python3"
    },
    "language_info": {
      "codemirror_mode": {
        "name": "ipython",
        "version": 3
      },
      "file_extension": ".py",
      "mimetype": "text/x-python",
      "name": "python",
      "nbconvert_exporter": "python",
      "pygments_lexer": "ipython3",
      "version": "3.9.1"
    }
  },
  "nbformat": 4,
  "nbformat_minor": 0
}
